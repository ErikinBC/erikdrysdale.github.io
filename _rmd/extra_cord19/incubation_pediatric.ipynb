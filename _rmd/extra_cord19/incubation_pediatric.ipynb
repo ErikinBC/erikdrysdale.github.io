{
 "cells": [
  {
   "cell_type": "markdown",
   "metadata": {},
   "source": [
    "# Meta-analysis of incubation time for Covid-19 with pediatric subset\n",
    "\n",
    "A wide variety of estimates of the incubation time have been seen in the rapidly evolving Covid-19 literature. As of March 27th, 2020 the most common number reported in the popular press appears to be the [5.2 day estimate](https://tinyurl.com/qnoccaj). While the variation in point estimates continues to be substantial, an average range of 5-6 days appears to be appropriate (for the mean). There has also been a limited discussion on the possibility of age-based differences in the incubation period. This kernel will go through the CORD-19 dataset and extract relevant sentences in regards to differents moments of the the incubation period (mean, median, lower-bound, and upper-bound). At the end of the notebook, a subset of relevant papers that mention pediatric populations will be explored. As of now, there does not appear to be strong evidence for age related-difference in incubation periods.\n",
    "\n",
    "Several technical notes.\n",
    "1. The `df_txt.csv` load in the script below was generated with a similar method to xhlulu's [kernel](https://tinyurl.com/vdhlgl7).\n",
    "2. A utility script is being used to help with the parsing. Please download the kernel for the details of these functions.\n",
    "3. After the relevant sentences are found, a function `record_vals` is used to allow the user to **<u>manually</u>** select the sentences with \"y(es)/n(o)\"\n",
    "4. I manually annotated the moments in the sentences\n"
   ]
  },
  {
   "cell_type": "code",
   "execution_count": null,
   "metadata": {
    "_cell_guid": "b1076dfc-b9ad-4769-8c92-a6c4dae69d19",
    "_uuid": "8f2839f25d086af736a60e9eeb907d3b93b6e0e5"
   },
   "outputs": [],
   "source": [
    "import numpy as np\n",
    "import pandas as pd\n",
    "import os\n",
    "import re\n",
    "\n",
    "import seaborn as sns\n",
    "from datetime import datetime as dt\n",
    "\n",
    "from support_funs_incubation import stopifnot, uwords, idx_find, find_beside, ljoin, sentence_find, record_vals\n",
    "\n",
    "!pip install ansicolors\n",
    "# Takes a tuple (list(idx), sentence) and will print in red anything in the index\n",
    "def color_printer(idx_sentence):\n",
    "    indices = idx_sentence[0]\n",
    "    sentence = idx_sentence[1]\n",
    "    mat = np.zeros([2 * len(indices) + 1, 2], dtype=int)\n",
    "    for ii, idx in enumerate(indices):\n",
    "        ri = 2 * ii + 1\n",
    "        mat[ri - 1, 1] = idx[0]\n",
    "        mat[ri, :] = idx\n",
    "        mat[ri + 1, 0] = idx[1]\n",
    "        if ii + 1 == len(indices):\n",
    "            mat[ri + 1, 1] = len(sentence)\n",
    "    output = ''\n",
    "    for ii in range(mat.shape[0]):\n",
    "        if ii % 2 == 0:\n",
    "            output = output + sentence[mat[ii, 0]:mat[ii, 1]]\n",
    "        else:\n",
    "            output = output + red(sentence[mat[ii, 0]:mat[ii, 1]])\n",
    "    output = output.replace('\\n', '')\n",
    "    print(output)\n",
    "\n",
    "from colors import red, black, white  # ansicolors\n",
    "\n",
    "dir_base = os.getcwd()\n",
    "dir_data = os.path.join(dir_base,'..','input','incubation')\n",
    "# load data\n",
    "df = pd.read_csv(os.path.join(dir_data, 'df_txt.csv'))\n",
    "df['date'] = pd.to_datetime(df.date)\n",
    "print(df.shape)\n",
    "\n",
    "# remove prefix from some abstracts: publically funded repositories.... etc\n",
    "pref = 'COVID-19 resource centre remains active.'\n",
    "for ii, aa in enumerate(df.abstract):\n",
    "    if isinstance(aa, float):  # nan\n",
    "        continue\n",
    "    hit = re.search(pref, aa)\n",
    "    if hit:\n",
    "        df.abstract.iloc[ii] = aa[hit.span()[1] + 1:]"
   ]
  },
  {
   "cell_type": "markdown",
   "metadata": {},
   "source": [
    "## Section 1: Summary statistics\n",
    "\n",
    "The code block below will calculate the number of 'covid' and 'nCoV' mentions in the texts and abstracts of the corpus. The first journal articles referencing 'covid' and 'nCoV' start on January 1st, 2020. The last relevant articles are around a week old as of March 27, 2020. The majority of articles use either 'Covid-2019' or '2019-nCoV', although there are some exceptions."
   ]
  },
  {
   "cell_type": "code",
   "execution_count": null,
   "metadata": {},
   "outputs": [],
   "source": [
    "# Find ways in which covid and ncov are referred to\n",
    "regex_ncov = r'(20)?19(\\-)?ncov|ncov(\\-)?(20)?19'\n",
    "regex_covid = r'covid(\\-)?(20)?19'\n",
    "\n",
    "# row indices\n",
    "idx_covid_abs = np.where(idx_find(df.abstract, regex_covid))[0]\n",
    "idx_ncov_abs = np.where(idx_find(df.abstract, regex_ncov))[0]\n",
    "idx_union_abs = np.union1d(idx_covid_abs, idx_ncov_abs)\n",
    "\n",
    "di_regex = {'covid': regex_covid, 'ncov': regex_ncov}\n",
    "di_idx = {'covid': idx_covid_abs, 'ncov': idx_ncov_abs}\n",
    "\n",
    "print('%i possible \"covid\" articles (using abstract)\\n'\n",
    "      '%i possible nCoV articles (using abstract)\\n'\n",
    "      'Union: %i, interection: %i' %\n",
    "      (len(idx_covid_abs), len(idx_ncov_abs), len(idx_union_abs),\n",
    "       len(np.intersect1d(idx_covid_abs, idx_ncov_abs))))\n",
    "\n",
    "dfmt = '%B %d, %Y'\n",
    "date_ncov_min = df.date.iloc[idx_ncov_abs].min().strftime(dfmt)\n",
    "date_ncov_max = df.date.iloc[idx_ncov_abs].max().strftime(dfmt)\n",
    "date_covid_min = df.date.iloc[idx_covid_abs].min().strftime(dfmt)\n",
    "date_covid_max = df.date.iloc[idx_covid_abs].max().strftime(dfmt)\n",
    "\n",
    "print('First and last nCoV article: %s & %s\\n'\n",
    "      'First and last covid-19 article: %s & %s' %\n",
    "      (date_ncov_min, date_ncov_max, date_covid_min, date_covid_max))\n",
    "\n",
    "holder = []\n",
    "for term in di_regex:\n",
    "    regex = di_regex[term]\n",
    "    idx = di_idx[term]\n",
    "    dat_abstract = uwords(df.abstract.iloc[idx], regex).assign(doc='abstract')\n",
    "    dat_txt = uwords(df.txt.iloc[idx], regex).assign(doc='txt')\n",
    "    dat = pd.concat([dat_abstract, dat_txt])\n",
    "    dat = dat.groupby('term').n.sum().reset_index()\n",
    "    dat.insert(0, 'tt', term)\n",
    "    holder.append(dat)\n",
    "df_term = pd.concat(holder).reset_index(drop=True)\n",
    "# Term usage\n",
    "print(df_term)"
   ]
  },
  {
   "cell_type": "markdown",
   "metadata": {},
   "source": [
    "## Section 2: Incubation period\n",
    "\n",
    "To see how 'incubation' is being used in the corpus, it is useful to see the preceeding and succeeding word. While 'incubation period' is the most common expression, others such as 'incubation time' or 'incubation period' are in use too. "
   ]
  },
  {
   "cell_type": "code",
   "execution_count": null,
   "metadata": {},
   "outputs": [],
   "source": [
    "pat_peds = r'infant|child|pediatric|age\\<'\n",
    "\n",
    "idx_incubation = []\n",
    "idx_peds = []\n",
    "for ii in idx_union_abs:\n",
    "    abs, txt = df.abstract[ii], df.txt[ii]\n",
    "    corpus = abs + '. ' + txt\n",
    "    if re.search(r'incubation', corpus, re.IGNORECASE) is not None:\n",
    "        idx_incubation.append(ii)\n",
    "    if re.search(pat_peds, corpus, re.IGNORECASE) is not None:\n",
    "        idx_peds.append(ii)\n",
    "idx_incubation_peds = np.intersect1d(idx_incubation, idx_peds)\n",
    "\n",
    "print('%i incubation articles, with %i pediatric articles, %i overlap' %\n",
    "      (len(idx_incubation), len(idx_peds), len(idx_incubation_peds)))\n",
    "\n",
    "# What is the most common word to appear before/after incubation?\n",
    "holder_l, holder_r = [], []\n",
    "for ii in idx_incubation:\n",
    "    abs, txt = df.abstract[ii], df.txt[ii]\n",
    "    corpus = abs + '. ' + txt\n",
    "    rterm = find_beside(corpus, 'incubation', tt='right')\n",
    "    lterm = find_beside(corpus, 'incubation', tt='left')\n",
    "    holder_r.append(rterm)\n",
    "    holder_l.append(lterm)\n",
    "\n",
    "dat_suffix = pd.Series(ljoin(holder_r)).str.lower().value_counts().reset_index().rename(\n",
    "    columns={0: 'n', 'index': 'suffix'})\n",
    "dat_prefix = pd.Series(ljoin(holder_l)).str.lower().value_counts().reset_index().rename(\n",
    "    columns={0: 'n', 'index': 'suffix'})\n",
    "print(dat_suffix.head(50))\n",
    "print(dat_prefix.head(50))\n",
    "\n",
    "suffix = ['period', 'time', 'distribution', 'duration', 'interval', 'rate', 'mean', 'median', 'estimation']\n",
    "suffix = [z + r'(s)?' for z in suffix]\n",
    "pat_incubation = [r'incubation\\s'+z for z in suffix]"
   ]
  },
  {
   "cell_type": "markdown",
   "metadata": {},
   "source": [
    "## Section 4: Manual curation\n",
    "\n",
    "Now that a total of 194 articles have been found with relevant sentences, a manual curation will be performed to select which sentences are relevant and allow the user to annotate the data with the stated moments. Sentences were selected if they estimated an incubation period from actual data rather than used existing estimates."
   ]
  },
  {
   "cell_type": "code",
   "execution_count": null,
   "metadata": {},
   "outputs": [],
   "source": [
    "do_run = False\n",
    "if do_run:\n",
    "    keepers = []\n",
    "    for jj, ii in enumerate(idx_incubation):\n",
    "        abs, txt = df.abstract[ii], df.txt[ii]\n",
    "        corpus = abs + '. ' + txt\n",
    "        idx_sentences = sentence_find(corpus, pat_incubation)\n",
    "        if len(idx_sentences) > 0:\n",
    "            try:\n",
    "                dd = df.loc[ii,'date'].strftime('%B %d, %Y')\n",
    "            except:\n",
    "                dd = 'NaN'\n",
    "            print('---- Title: %s, date: %s, index: %i (%i of %i) ----' %\n",
    "                  (df.loc[ii, 'title'], dd , ii,jj+1,len(idx_incubation)))\n",
    "            tmp = record_vals(idx_sentences)\n",
    "            dat = pd.DataFrame(tmp,columns=['pos','txt']).assign(idx = ii)\n",
    "            keepers.append(dat)\n",
    "    dat_sentences = pd.concat(keepers)\n",
    "    dat_sentences = dat_sentences[['idx','pos','txt']]\n",
    "    dat_sentences['txt'] = dat_sentences.txt.str.replace('\\n','')\n",
    "    dat_sentences = df.iloc[idx_incubation][['source','title','doi','date']].rename_axis('idx').reset_index().merge(\n",
    "                    dat_sentences,on='idx',how='right')\n",
    "    dat_sentences.to_csv(os.path.join(dir_output,'sentence_flag.csv'),index=False)"
   ]
  },
  {
   "cell_type": "markdown",
   "metadata": {},
   "source": [
    "## Section 5: Analyze moments of incubation period\n",
    "\n",
    "Load the manually annotated data with the added `moments` column."
   ]
  },
  {
   "cell_type": "code",
   "execution_count": null,
   "metadata": {},
   "outputs": [],
   "source": [
    "df_moments = pd.read_csv(os.path.join(dir_data,'sentence_flag.csv'))\n",
    "df_txt = df_moments[['title','pos','txt']].copy()\n",
    "df_moments.drop(columns = ['pos','txt'],inplace=True)\n",
    "df_moments['date'] = pd.to_datetime(df_moments.date)\n",
    "moments = df_moments.moments.str.split('\\;',expand=True).reset_index().melt('index')\n",
    "moments = moments[moments.value.notnull()].reset_index(drop=True).drop(columns='variable')\n",
    "tmp = moments.value.str.split('\\=',expand=True)\n",
    "moments = moments.drop(columns='value').assign(moment=tmp.iloc[:,0], val=tmp.iloc[:,1].astype(float))\n",
    "df_moments = df_moments.drop(columns='moments').reset_index().merge(moments,on='index',how='right').drop(columns='index')\n",
    "# Print off key sentences\n",
    "print('A total of %i unique studies' % (df_moments.title.unique().shape[0]) )\n",
    "print('\\n\\n')\n",
    "for ii, rr in df_txt.iterrows():\n",
    "    print('----- Article: %s -----' % rr['title'] )\n",
    "    idx = [int(z) for z in re.findall(r'\\d+', rr['pos'])]\n",
    "    idx = np.array(idx).reshape([int(len(idx) / 2), 2])\n",
    "    idx = [tuple(idx[i]) for i in range(idx.shape[0])]\n",
    "    sentence = rr['txt']\n",
    "    idx_sentence = (idx,sentence)\n",
    "    color_printer(idx_sentence)\n",
    "    print('\\n')"
   ]
  },
  {
   "cell_type": "code",
   "execution_count": null,
   "metadata": {},
   "outputs": [],
   "source": [
    "di_moments = {'lb':'Lower-bound','ub':'Upper-bound','mu':'Mean','med':'Median',\n",
    "              'q2':'25th percentile','q3':'75th percentile'}\n",
    "# Plot the moments over time\n",
    "g = sns.FacetGrid(data=df_moments.assign(moment=lambda x: x.moment.map(di_moments)),\n",
    "                  col='moment',col_wrap=3,sharex=True,sharey=False,height=4,aspect=1)\n",
    "g.map(sns.lineplot,'date','val',ci=None)\n",
    "g.map(sns.scatterplot,'date','val')\n",
    "g.set_xlabels('');g.set_ylabels('Days')\n",
    "g.fig.suptitle(t='Figure: Estimate of Incubation period moments over time',size=16,weight='bold')\n",
    "g.fig.subplots_adjust(top=0.85)\n",
    "for ax in g.axes.flat:\n",
    "    ax.set_title(ax.title._text.replace('moment = ', ''))\n",
    "\n",
    "# dates = [dt.strftime(dt.strptime(z,'%Y-%m-%d'),'%b-%d, %y') for z in dates]\n",
    "xticks = [737425., 737439., 737456., 737470., 737485., 737499.]\n",
    "lbls = ['Jan-01, 20', 'Jan-15, 20', 'Feb-01, 20', 'Feb-15, 20', 'Mar-01, 20', 'Mar-15, 20']\n",
    "g.set_xticklabels(rotation=45,labels=lbls)\n",
    "g.set(xticks = xticks)"
   ]
  },
  {
   "cell_type": "code",
   "execution_count": null,
   "metadata": {},
   "outputs": [],
   "source": [
    "ave = df_moments.groupby('moment').val.mean().reset_index().rename(columns={'moment':'Moment','val':'Average'}).assign(Moment=lambda x: x.Moment.map(di_moments))\n",
    "print(np.round(ave,1))"
   ]
  },
  {
   "cell_type": "markdown",
   "metadata": {},
   "source": [
    "The figure above shows thats the point estimates, especially for the mean, are quite noisy and range from just below 3 days, to just above 8 days."
   ]
  },
  {
   "cell_type": "markdown",
   "metadata": {},
   "source": [
    "## Section 6: Pediatric references\n",
    "\n",
    "Using the 30 articles found above, we can now see which papers might shed any clues on the incubation period for pediatric populations."
   ]
  },
  {
   "cell_type": "code",
   "execution_count": null,
   "metadata": {},
   "outputs": [],
   "source": [
    "# Get the index\n",
    "df_match = df_txt.merge(df,on='title',how='left').rename(columns={'txt_x':'sentence','txt_y':'txt_full'})\n",
    "\n",
    "for jj, rr in df_match.iterrows():\n",
    "    try:\n",
    "        dd = rr['date'].strftime('%B %d, %Y')\n",
    "    except:\n",
    "        dd = 'NaN'\n",
    "    corpus = rr['abstract'] + '. ' + rr['txt_full']\n",
    "    peds_sentences = sentence_find(corpus, pat_peds)\n",
    "    incubation_sentences = sentence_find(corpus, pat_incubation)\n",
    "    if len(peds_sentences) > 0 and len(incubation_sentences) > 0:\n",
    "        print('---- Title: %s, date: %s (%i of %i) ----' %\n",
    "              (rr['title'], dd, jj+1, df_match.shape[0]))\n",
    "        for ii_ss in peds_sentences + incubation_sentences:\n",
    "            color_printer(ii_ss)\n",
    "        print('\\n')"
   ]
  },
  {
   "cell_type": "markdown",
   "metadata": {},
   "source": [
    "Three articles show up of interest:\n",
    "\n",
    "1. (Han 2020) [Estimate the incubation period of coronavirus 2019 (COVID-19)](https://www.medrxiv.org/content/10.1101/2020.02.24.20027474v1)\n",
    "2. (Zhang et al 2020) [Clinical Characteristics of 34 Children with Coronavirus Disease-2019 in the West of China: a Multiple-center Case Series](https://www.medrxiv.org/content/10.1101/2020.03.12.20034686v1)\n",
    "3. (Henry and Oliveira 2020) [Preliminary epidemiological analysis on children and adolescents with novel coronavirus disease 2019 outside Hubei Province, China: an observational study utilizing crowdsourced data](https://www.medrxiv.org/content/10.1101/2020.03.01.20029884v2)\n",
    "\n",
    "The first paper by (Han 2020) suggests that the incubation period is *shorter* for patients under the age of 40. The distribution of data points from Figure 3 of the paper appears to show a relatively short incubation period for those under 25. However there are onyl 59 patients in total for this study.\n",
    "\n"
   ]
  },
  {
   "cell_type": "code",
   "execution_count": null,
   "metadata": {},
   "outputs": [],
   "source": [
    "from PIL import Image\n",
    "from matplotlib import pyplot as plt\n",
    "image = Image.open(os.path.join(dir_data,\"age_incubation.png\"))\n",
    "fig, ax = plt.subplots(figsize=(18,9))\n",
    "ax.imshow(image)\n",
    "fig.suptitle(\"Figure 3: from (Han 2020) \", fontsize=18,weight='bold')\n",
    "fig.subplots_adjust(top=1.1)"
   ]
  },
  {
   "cell_type": "markdown",
   "metadata": {},
   "source": [
    "In (Zhang et al 2020) they suggest the opposite effect: the median incubation period of 10.5 days for pediatric patients, but only 4 for all age groups! However, this dataset also has a small sample size: 34. Lastly in (Henry and Oliveira 2020), the authors provide no new data to estimate the incubation period but instead reference [(Cai et al 2020)](https://tinyurl.com/s8gah4b) which estimates a median incubation period of 6.5 days with n=10.\n",
    "\n",
    "Unfortunately the point estimates for the incubation period in the general population appears to quite noisy. Furthermore, there is contractory evidence about whether there is an age-based discrepancy in the average or median incubation period. Therefore the evidence from the CORD-19 corpus appears to be that incubation period averages around 5-6 days, and that there is not sufficient evidence to reject a difference in moments between a pediatric and adult population with regards to incubation time. \n"
   ]
  }
 ],
 "metadata": {
  "kernelspec": {
   "display_name": "Python 3",
   "language": "python",
   "name": "python3"
  },
  "language_info": {
   "codemirror_mode": {
    "name": "ipython",
    "version": 3
   },
   "file_extension": ".py",
   "mimetype": "text/x-python",
   "name": "python",
   "nbconvert_exporter": "python",
   "pygments_lexer": "ipython3",
   "version": "3.7.1"
  }
 },
 "nbformat": 4,
 "nbformat_minor": 4
}
